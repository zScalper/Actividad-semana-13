{
  "nbformat": 4,
  "nbformat_minor": 0,
  "metadata": {
    "colab": {
      "provenance": []
    },
    "kernelspec": {
      "name": "python3",
      "display_name": "Python 3"
    },
    "language_info": {
      "name": "python"
    }
  },
  "cells": [
    {
      "cell_type": "code",
      "execution_count": 1,
      "metadata": {
        "id": "qzzIkhZ8y0jw"
      },
      "outputs": [],
      "source": [
        "from pyspark.sql import SparkSession"
      ]
    },
    {
      "cell_type": "code",
      "source": [
        "from pyspark.sql.functions import col, expr, mean, corr"
      ],
      "metadata": {
        "id": "jXRtrVkBy7PX"
      },
      "execution_count": 2,
      "outputs": []
    },
    {
      "cell_type": "code",
      "source": [
        "spark = SparkSession.builder.appName(\"Correlacion\").getOrCreate()"
      ],
      "metadata": {
        "id": "OpyBwZgvy852"
      },
      "execution_count": 3,
      "outputs": []
    },
    {
      "cell_type": "code",
      "source": [
        "data_corr= [(\"Logitech G pro\",450,50),(\"Logitech G513\",550,20),(\"Razer Deathadder Elite\",220,150),(\"Logitech G213\",120,200),(\"HyperX CloudFire\",160,170),(\"HyperX Chroma\",240,60)]\n",
        "columns_corr= [\"Producto\",\"Precio\",\"Unidades vendidas\"]\n",
        "variable_corr= spark.createDataFrame(data_corr,columns_corr)"
      ],
      "metadata": {
        "id": "k9jcQoMAzEMN"
      },
      "execution_count": 4,
      "outputs": []
    },
    {
      "cell_type": "code",
      "source": [
        "correlacion = variable_corr.select(corr(col(\"Precio\"),col(\"Unidades vendidas\")).alias(\"correlacion\")).collect()[0][\"correlacion\"]"
      ],
      "metadata": {
        "id": "5863AjUDzJ4m"
      },
      "execution_count": 6,
      "outputs": []
    },
    {
      "cell_type": "code",
      "source": [
        "print(\"La correlacion entre el precio y las unidades vendidas es:\",correlacion)"
      ],
      "metadata": {
        "colab": {
          "base_uri": "https://localhost:8080/"
        },
        "id": "R6uaATp_ziat",
        "outputId": "70eec264-4180-4709-c496-450166f7a2e8"
      },
      "execution_count": 7,
      "outputs": [
        {
          "output_type": "stream",
          "name": "stdout",
          "text": [
            "La correlacion entre el precio y las unidades vendidas es: -0.8891476049568883\n"
          ]
        }
      ]
    }
  ]
}