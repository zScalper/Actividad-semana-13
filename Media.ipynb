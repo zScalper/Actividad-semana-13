{
  "nbformat": 4,
  "nbformat_minor": 0,
  "metadata": {
    "colab": {
      "provenance": []
    },
    "kernelspec": {
      "name": "python3",
      "display_name": "Python 3"
    },
    "language_info": {
      "name": "python"
    }
  },
  "cells": [
    {
      "cell_type": "code",
      "execution_count": 1,
      "metadata": {
        "id": "_WOEyv1WmlZJ"
      },
      "outputs": [],
      "source": [
        "from pyspark.sql import SparkSession"
      ]
    },
    {
      "cell_type": "code",
      "source": [
        "from pyspark.sql.functions import col, expr, mean, corr"
      ],
      "metadata": {
        "id": "iBZ_kb6Kmw-Y"
      },
      "execution_count": 2,
      "outputs": []
    },
    {
      "cell_type": "code",
      "source": [
        "spark = SparkSession.builder.appName(\"Media\").getOrCreate()"
      ],
      "metadata": {
        "id": "hy48-ZWpnBnY"
      },
      "execution_count": 3,
      "outputs": []
    },
    {
      "cell_type": "code",
      "source": [
        "spark"
      ],
      "metadata": {
        "colab": {
          "base_uri": "https://localhost:8080/",
          "height": 219
        },
        "id": "Qwtzj-0dn4aI",
        "outputId": "b1cd9016-1ab9-47ad-b5f3-c7db63fa8571"
      },
      "execution_count": 4,
      "outputs": [
        {
          "output_type": "execute_result",
          "data": {
            "text/plain": [
              "<pyspark.sql.session.SparkSession at 0x79fb61a44f10>"
            ],
            "text/html": [
              "\n",
              "            <div>\n",
              "                <p><b>SparkSession - in-memory</b></p>\n",
              "                \n",
              "        <div>\n",
              "            <p><b>SparkContext</b></p>\n",
              "\n",
              "            <p><a href=\"http://b6ec3e902746:4040\">Spark UI</a></p>\n",
              "\n",
              "            <dl>\n",
              "              <dt>Version</dt>\n",
              "                <dd><code>v3.5.3</code></dd>\n",
              "              <dt>Master</dt>\n",
              "                <dd><code>local[*]</code></dd>\n",
              "              <dt>AppName</dt>\n",
              "                <dd><code>Media</code></dd>\n",
              "            </dl>\n",
              "        </div>\n",
              "        \n",
              "            </div>\n",
              "        "
            ]
          },
          "metadata": {},
          "execution_count": 4
        }
      ]
    },
    {
      "cell_type": "code",
      "source": [
        "data_media = [(\"Logitech G pro\",450,50),(\"Logitech G513\",550,20),(\"Razer Deathadder Elite\",220,150),(\"Logitech G213\",120,200),(\"HyperX CloudFire\",160,170),(\"HyperX Chroma\",240,60)]\n",
        "columns_media = [\"Producto\",\"Precio\",\"Unidades vendidas\"]\n",
        "variable_media = spark.createDataFrame(data_media,columns_media)"
      ],
      "metadata": {
        "id": "eh10qmlCn6xn"
      },
      "execution_count": 5,
      "outputs": []
    },
    {
      "cell_type": "code",
      "source": [
        "variable_media.show()"
      ],
      "metadata": {
        "colab": {
          "base_uri": "https://localhost:8080/"
        },
        "id": "JSl6kKjQrFJp",
        "outputId": "5cb62906-c9ca-4623-c42d-5389723a045c"
      },
      "execution_count": 6,
      "outputs": [
        {
          "output_type": "stream",
          "name": "stdout",
          "text": [
            "+--------------------+------+-----------------+\n",
            "|            Producto|Precio|Unidades vendidas|\n",
            "+--------------------+------+-----------------+\n",
            "|      Logitech G pro|   450|               50|\n",
            "|       Logitech G513|   550|               20|\n",
            "|Razer Deathadder ...|   220|              150|\n",
            "|       Logitech G213|   120|              200|\n",
            "|    HyperX CloudFire|   160|              170|\n",
            "|       HyperX Chroma|   240|               60|\n",
            "+--------------------+------+-----------------+\n",
            "\n"
          ]
        }
      ]
    },
    {
      "cell_type": "code",
      "source": [
        "variable_media.select(mean(col(\"Precio\")).alias(\"Media Precio\")).show()"
      ],
      "metadata": {
        "colab": {
          "base_uri": "https://localhost:8080/"
        },
        "id": "mGMJDUL2rLv_",
        "outputId": "c7c1498b-a253-4e70-a772-8595fbb43350"
      },
      "execution_count": 7,
      "outputs": [
        {
          "output_type": "stream",
          "name": "stdout",
          "text": [
            "+------------+\n",
            "|Media Precio|\n",
            "+------------+\n",
            "|       290.0|\n",
            "+------------+\n",
            "\n"
          ]
        }
      ]
    },
    {
      "cell_type": "markdown",
      "source": [],
      "metadata": {
        "id": "95wcYmgDrwZm"
      }
    },
    {
      "cell_type": "code",
      "source": [
        "variable_media.select(mean(col(\"Unidades vendidas\")).alias(\"Media Unidades vendidas\")).show()"
      ],
      "metadata": {
        "colab": {
          "base_uri": "https://localhost:8080/"
        },
        "id": "I6Cn318nrsoY",
        "outputId": "34f07902-e8e7-490f-d71c-9440988441de"
      },
      "execution_count": 8,
      "outputs": [
        {
          "output_type": "stream",
          "name": "stdout",
          "text": [
            "+-----------------------+\n",
            "|Media Unidades vendidas|\n",
            "+-----------------------+\n",
            "|     108.33333333333333|\n",
            "+-----------------------+\n",
            "\n"
          ]
        }
      ]
    }
  ]
}