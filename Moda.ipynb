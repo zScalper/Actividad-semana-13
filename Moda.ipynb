{
  "nbformat": 4,
  "nbformat_minor": 0,
  "metadata": {
    "colab": {
      "provenance": []
    },
    "kernelspec": {
      "name": "python3",
      "display_name": "Python 3"
    },
    "language_info": {
      "name": "python"
    }
  },
  "cells": [
    {
      "cell_type": "code",
      "execution_count": 1,
      "metadata": {
        "id": "BUiTwkvPvOTP"
      },
      "outputs": [],
      "source": [
        "from pyspark.sql import SparkSession"
      ]
    },
    {
      "cell_type": "code",
      "source": [
        "from pyspark.sql.functions import col, expr, mean, corr"
      ],
      "metadata": {
        "id": "9nXyz6TpvgvA"
      },
      "execution_count": 2,
      "outputs": []
    },
    {
      "cell_type": "code",
      "source": [
        "spark = SparkSession.builder.appName(\"Moda\").getOrCreate()"
      ],
      "metadata": {
        "id": "-QpbEFogvh__"
      },
      "execution_count": 3,
      "outputs": []
    },
    {
      "cell_type": "code",
      "source": [
        "data_moda= [(\"Logitech G pro\",450,50),(\"Logitech G513\",550,20),(\"Razer Deathadder Elite\",220,150),(\"Logitech G213\",120,200),(\"HyperX CloudFire\",160,170),(\"HyperX Chroma\",240,60)]\n",
        "columns_moda= [\"Producto\",\"Precio\",\"Unidades vendidas\"]\n",
        "variable_moda= spark.createDataFrame(data_moda,columns_moda)"
      ],
      "metadata": {
        "id": "OmbQpcKyviJ-"
      },
      "execution_count": 4,
      "outputs": []
    },
    {
      "cell_type": "code",
      "source": [
        "precio_moda=variable_moda.groupBy(\"Precio\").count().orderBy(col(\"count\").desc()).first()"
      ],
      "metadata": {
        "id": "iVHJlF0_vxKf"
      },
      "execution_count": 5,
      "outputs": []
    },
    {
      "cell_type": "code",
      "source": [
        "uVendidas_moda=variable_moda.groupBy(\"Unidades vendidas\").count().orderBy(col(\"count\").desc()).first()"
      ],
      "metadata": {
        "id": "KMBIswuOv3Re"
      },
      "execution_count": 7,
      "outputs": []
    },
    {
      "cell_type": "code",
      "source": [
        "print(\"La moda del precio es:\",precio_moda[\"Precio\"])"
      ],
      "metadata": {
        "colab": {
          "base_uri": "https://localhost:8080/"
        },
        "id": "kauqHXhjvxlo",
        "outputId": "d7ebfcaf-9a05-4553-9238-cf409e360d63"
      },
      "execution_count": 6,
      "outputs": [
        {
          "output_type": "stream",
          "name": "stdout",
          "text": [
            "La moda del precio es: 450\n"
          ]
        }
      ]
    },
    {
      "cell_type": "code",
      "source": [
        "print(\"La moda delas Unidades vendidas es:\",uVendidas_moda[\"Unidades vendidas\"])"
      ],
      "metadata": {
        "colab": {
          "base_uri": "https://localhost:8080/"
        },
        "id": "bfGGsCizw-QA",
        "outputId": "f796f0bd-1193-413d-bedd-355c445aaf7d"
      },
      "execution_count": 8,
      "outputs": [
        {
          "output_type": "stream",
          "name": "stdout",
          "text": [
            "La moda delas Unidades vendidas es: 50\n"
          ]
        }
      ]
    }
  ]
}