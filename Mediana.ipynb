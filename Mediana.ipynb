{
  "nbformat": 4,
  "nbformat_minor": 0,
  "metadata": {
    "colab": {
      "provenance": []
    },
    "kernelspec": {
      "name": "python3",
      "display_name": "Python 3"
    },
    "language_info": {
      "name": "python"
    }
  },
  "cells": [
    {
      "cell_type": "code",
      "execution_count": 1,
      "metadata": {
        "id": "BSRHgroDtaDy"
      },
      "outputs": [],
      "source": [
        "from pyspark.sql import SparkSession"
      ]
    },
    {
      "cell_type": "code",
      "source": [
        "from pyspark.sql.functions import col, expr, mean, corr"
      ],
      "metadata": {
        "id": "JI11nGjrtg8i"
      },
      "execution_count": 2,
      "outputs": []
    },
    {
      "cell_type": "code",
      "source": [
        "spark = SparkSession.builder.appName(\"Mediana\").getOrCreate()"
      ],
      "metadata": {
        "id": "sPM6cCzEtjf-"
      },
      "execution_count": 3,
      "outputs": []
    },
    {
      "cell_type": "code",
      "source": [
        "data_mediana = [(\"Logitech G pro\",450,50),(\"Logitech G513\",550,20),(\"Razer Deathadder Elite\",220,150),(\"Logitech G213\",120,200),(\"HyperX CloudFire\",160,170),(\"HyperX Chroma\",240,60)]\n",
        "columns_mediana = [\"Producto\",\"Precio\",\"Unidades vendidas\"]\n",
        "variable_mediana = spark.createDataFrame(data_mediana,columns_mediana)"
      ],
      "metadata": {
        "id": "xxGjWZBRtoZ-"
      },
      "execution_count": 4,
      "outputs": []
    },
    {
      "cell_type": "code",
      "source": [
        "precio_mediana=variable_mediana.approxQuantile(\"Precio\",[0.5],0.0)"
      ],
      "metadata": {
        "id": "Y2oxt52ytsg3"
      },
      "execution_count": 5,
      "outputs": []
    },
    {
      "cell_type": "code",
      "source": [
        "uVendidas_mediana=variable_mediana.approxQuantile(\"Unidades vendidas\",[0.5],0.0)"
      ],
      "metadata": {
        "id": "4X5cvCWWuNyu"
      },
      "execution_count": 6,
      "outputs": []
    },
    {
      "cell_type": "code",
      "source": [
        "print(\"La mediana del precio es:\",precio_mediana)"
      ],
      "metadata": {
        "colab": {
          "base_uri": "https://localhost:8080/"
        },
        "id": "sqH6cTdIt6gW",
        "outputId": "058acd37-3658-4e7f-c78a-fb13ede344cb"
      },
      "execution_count": 7,
      "outputs": [
        {
          "output_type": "stream",
          "name": "stdout",
          "text": [
            "La mediana del precio es: [220.0]\n"
          ]
        }
      ]
    },
    {
      "cell_type": "code",
      "source": [
        "print(\"La mediana de las unidades vendidas es:\",uVendidas_mediana)"
      ],
      "metadata": {
        "colab": {
          "base_uri": "https://localhost:8080/"
        },
        "id": "I96zukenuW-u",
        "outputId": "485682a9-8869-4e35-bbbe-439f93c1c7e5"
      },
      "execution_count": 8,
      "outputs": [
        {
          "output_type": "stream",
          "name": "stdout",
          "text": [
            "La mediana de las unidades vendidas es: [60.0]\n"
          ]
        }
      ]
    }
  ]
}